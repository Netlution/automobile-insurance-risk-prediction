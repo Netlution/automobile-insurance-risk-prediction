{
 "cells": [
  {
   "cell_type": "code",
   "execution_count": null,
   "id": "af9ed70c",
   "metadata": {},
   "outputs": [
    {
     "name": "stdout",
     "output_type": "stream",
     "text": [
      "Type: <class 'sklearn.pipeline.Pipeline'>\n",
      "\n",
      "Pipeline steps:\n",
      "- preprocessor: ColumnTransformer(transformers=[('cat',\n",
      "                                 OneHotEncoder(handle_unknown='ignore',\n",
      "                                               sparse_output=False),\n",
      "                                 ['make', 'fuel_type', 'aspiration',\n",
      "                                  'body_style', 'drive_wheels',\n",
      "                                  'engine_location', 'engine_type',\n",
      "                                  'num_cylinders', 'fuel_system']),\n",
      "                                ('num', 'passthrough',\n",
      "                                 ['wheel_base', 'length', 'width', 'height',\n",
      "                                  'curb_weight', 'engine_size',\n",
      "                                  'compression_ratio', 'city_mpg',\n",
      "                                  'highway_mpg'])])\n",
      "- regressor: RandomForestRegressor(random_state=42)\n"
     ]
    }
   ],
   "source": [
    "import joblib\n",
    "\n",
    "# Load pickle file\n",
    "rf = joblib.load(\"automobile_model.pkl\")\n",
    "\n",
    "print(\"Type:\", type(rf))\n",
    "\n",
    "# If it's a pipeline, print the steps\n",
    "if hasattr(rf, \"steps\"):\n",
    "    print(\"\\nPipeline steps:\")\n",
    "    for name, step in rf.steps:\n",
    "        print(f\"- {name}: {step}\")\n",
    "\n",
    "# If it has transformers (ColumnTransformer)\n",
    "if hasattr(rf, \"transformers\"):\n",
    "    print(\"\\nTransformers inside ColumnTransformer:\")\n",
    "    for name, trans, cols in rf.transformers:\n",
    "        print(f\"- {name}: {trans} (columns: {cols})\")\n"
   ]
  },
  {
   "cell_type": "code",
   "execution_count": null,
   "id": "d074c349",
   "metadata": {},
   "outputs": [],
   "source": []
  }
 ],
 "metadata": {
  "kernelspec": {
   "display_name": "venv (3.13.5)",
   "language": "python",
   "name": "python3"
  },
  "language_info": {
   "codemirror_mode": {
    "name": "ipython",
    "version": 3
   },
   "file_extension": ".py",
   "mimetype": "text/x-python",
   "name": "python",
   "nbconvert_exporter": "python",
   "pygments_lexer": "ipython3",
   "version": "3.13.5"
  }
 },
 "nbformat": 4,
 "nbformat_minor": 5
}
